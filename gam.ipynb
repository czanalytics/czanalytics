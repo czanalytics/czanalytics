{
  "nbformat": 4,
  "nbformat_minor": 0,
  "metadata": {
    "colab": {
      "private_outputs": true,
      "provenance": [],
      "authorship_tag": "ABX9TyMLKaFJ/PF69vjHpTP0sfGX",
      "include_colab_link": true
    },
    "kernelspec": {
      "name": "python3",
      "display_name": "Python 3"
    },
    "language_info": {
      "name": "python"
    }
  },
  "cells": [
    {
      "cell_type": "markdown",
      "metadata": {
        "id": "view-in-github",
        "colab_type": "text"
      },
      "source": [
        "<a href=\"https://colab.research.google.com/github/czanalytics/czanalytics/blob/main/gam.ipynb\" target=\"_parent\"><img src=\"https://colab.research.google.com/assets/colab-badge.svg\" alt=\"Open In Colab\"/></a>"
      ]
    },
    {
      "cell_type": "markdown",
      "source": [
        "# Generalized Additive Modeling \n",
        "\n",
        "GAMs are smooth semi-parametric models"
      ],
      "metadata": {
        "id": "b_zuqRJHZhzi"
      }
    },
    {
      "cell_type": "code",
      "source": [],
      "metadata": {
        "id": "7M788O_vZWs0"
      },
      "execution_count": null,
      "outputs": []
    },
    {
      "cell_type": "code",
      "execution_count": null,
      "metadata": {
        "id": "kLMVJ_NpZM3n"
      },
      "outputs": [],
      "source": [
        "# from pygam import GAM, s, te"
      ]
    }
  ]
}