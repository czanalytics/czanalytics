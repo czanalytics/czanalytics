{
  "nbformat": 4,
  "nbformat_minor": 0,
  "metadata": {
    "colab": {
      "private_outputs": true,
      "provenance": [],
      "authorship_tag": "ABX9TyNoLa0W58IKGRhpis5xeEeF",
      "include_colab_link": true
    },
    "kernelspec": {
      "name": "python3",
      "display_name": "Python 3"
    },
    "language_info": {
      "name": "python"
    }
  },
  "cells": [
    {
      "cell_type": "markdown",
      "metadata": {
        "id": "view-in-github",
        "colab_type": "text"
      },
      "source": [
        "<a href=\"https://colab.research.google.com/github/czanalytics/czanalytics/blob/main/gam.ipynb\" target=\"_parent\"><img src=\"https://colab.research.google.com/assets/colab-badge.svg\" alt=\"Open In Colab\"/></a>"
      ]
    },
    {
      "cell_type": "markdown",
      "source": [
        "# Generalized Additive Modeling \n",
        "\n",
        "GAMs are smooth semi-parametric models, allowing complex non-linear patterns modeled in data driven way."
      ],
      "metadata": {
        "id": "b_zuqRJHZhzi"
      }
    },
    {
      "cell_type": "code",
      "source": [
        "!pip install pygam"
      ],
      "metadata": {
        "id": "7M788O_vZWs0"
      },
      "execution_count": null,
      "outputs": []
    },
    {
      "cell_type": "code",
      "execution_count": null,
      "metadata": {
        "id": "kLMVJ_NpZM3n"
      },
      "outputs": [],
      "source": [
        "# Generalized Additive Models (GAMs) are smooth semi-parametric models\n",
        "# from pygam import GAM, s, te"
      ]
    },
    {
      "cell_type": "code",
      "source": [
        "from pygam import GAM, s, te\n",
        "\n",
        "GAM(s(0, n_splines=200) + te(3,1) + s(2), distribution='poisson', link='log')"
      ],
      "metadata": {
        "id": "0fTO2UrUcKXY"
      },
      "execution_count": null,
      "outputs": []
    },
    {
      "cell_type": "code",
      "source": [
        "\n",
        "from pygam import PoissonGAM, s, te\n",
        "from pygam.datasets import chicago\n",
        "\n",
        "X, y = chicago(return_X_y=True)\n",
        "\n",
        "gam = PoissonGAM(s(0, n_splines=200) + te(3, 1) + s(2)).fit(X, y)"
      ],
      "metadata": {
        "id": "8D-RArKqb3Jl"
      },
      "execution_count": null,
      "outputs": []
    },
    {
      "cell_type": "code",
      "source": [
        "import matplotlib.pyplot as plt\n",
        "from mpl_toolkits import mplot3d\n",
        "\n",
        "plt.ion()\n",
        "plt.rcParams['figure.figsize'] = (12, 8)"
      ],
      "metadata": {
        "id": "42vNDoD5cmce"
      },
      "execution_count": null,
      "outputs": []
    },
    {
      "cell_type": "code",
      "source": [
        "XX = gam.generate_X_grid(term=1, meshgrid=True)\n",
        "Z = gam.partial_dependence(term=1, X=XX, meshgrid=True)\n",
        "\n",
        "ax = plt.axes(projection='3d')\n",
        "ax.plot_surface(XX[0], XX[1], Z, cmap='viridis')"
      ],
      "metadata": {
        "id": "7liI6Y7UcsGQ"
      },
      "execution_count": null,
      "outputs": []
    },
    {
      "cell_type": "code",
      "source": [
        "from pygam import LinearGAM, s\n",
        "from pygam.datasets import toy_interaction\n",
        "\n",
        "X, y = toy_interaction(return_X_y=True)\n",
        "\n",
        "gam = LinearGAM(s(0, by=1)).fit(X, y)\n",
        "gam.summary()"
      ],
      "metadata": {
        "id": "TS9HK8qrc1Fd"
      },
      "execution_count": null,
      "outputs": []
    },
    {
      "cell_type": "markdown",
      "source": [
        "## Regression"
      ],
      "metadata": {
        "id": "VUPsvZTnc87o"
      }
    },
    {
      "cell_type": "code",
      "source": [
        "from pygam import LinearGAM, s, f\n",
        "from pygam.datasets import wage\n",
        "\n",
        "X, y = wage(return_X_y=True)\n",
        "\n",
        "## model\n",
        "gam = LinearGAM(s(0) + s(1) + f(2))\n",
        "gam.gridsearch(X, y)\n",
        "\n",
        "\n",
        "## plotting\n",
        "plt.figure();\n",
        "fig, axs = plt.subplots(1,3);\n",
        "\n",
        "titles = ['year', 'age', 'education']\n",
        "for i, ax in enumerate(axs):\n",
        "    XX = gam.generate_X_grid(term=i)\n",
        "    ax.plot(XX[:, i], gam.partial_dependence(term=i, X=XX))\n",
        "    ax.plot(XX[:, i], gam.partial_dependence(term=i, X=XX, width=.95)[1], c='r', ls='--')\n",
        "    if i == 0:\n",
        "        ax.set_ylim(-30,30)\n",
        "    ax.set_title(titles[i]);"
      ],
      "metadata": {
        "id": "UjdKE_cWdAgc"
      },
      "execution_count": null,
      "outputs": []
    }
  ]
}