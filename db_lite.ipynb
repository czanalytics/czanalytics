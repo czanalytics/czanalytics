{
  "nbformat": 4,
  "nbformat_minor": 0,
  "metadata": {
    "colab": {
      "private_outputs": true,
      "provenance": [],
      "authorship_tag": "ABX9TyNNy2B06K6/BY3P7GuI8vYP",
      "include_colab_link": true
    },
    "kernelspec": {
      "name": "python3",
      "display_name": "Python 3"
    },
    "language_info": {
      "name": "python"
    }
  },
  "cells": [
    {
      "cell_type": "markdown",
      "metadata": {
        "id": "view-in-github",
        "colab_type": "text"
      },
      "source": [
        "<a href=\"https://colab.research.google.com/github/czanalytics/czanalytics/blob/main/db_lite.ipynb\" target=\"_parent\"><img src=\"https://colab.research.google.com/assets/colab-badge.svg\" alt=\"Open In Colab\"/></a>"
      ]
    },
    {
      "cell_type": "markdown",
      "source": [
        "# Lite Data Bases\n",
        "\n",
        "We introduce light databases TinyDB and sqlite3."
      ],
      "metadata": {
        "id": "q8MG0k0F3M8K"
      }
    },
    {
      "cell_type": "markdown",
      "source": [
        "## **TinyDB**"
      ],
      "metadata": {
        "id": "xrUiFPpK5TNW"
      }
    },
    {
      "cell_type": "code",
      "source": [
        "!pip install tinydb"
      ],
      "metadata": {
        "id": "C6QQ6YEM4rfe"
      },
      "execution_count": null,
      "outputs": []
    },
    {
      "cell_type": "code",
      "source": [
        "# https://tinydb.readthedocs.io/en/latest/\n",
        "# https://tinydb.readthedocs.io/en/latest/getting-started.html#basic-usage\n",
        "# https://github.com/msiemens/tinydb\n",
        "#\n",
        "from tinydb import TinyDB, Query\n",
        "\n",
        "db = TinyDB('db.json')\n",
        "db.insert({'name': 'John', 'age': 22})\n",
        "#db.insert({'int': 1, 'char': 'a'})\n",
        "\n",
        "User = Query()\n",
        "# Search for a field value\n",
        "db.search(User.name == 'John')"
      ],
      "metadata": {
        "id": "RZ2WCkPO4ffZ"
      },
      "execution_count": null,
      "outputs": []
    },
    {
      "cell_type": "code",
      "source": [
        "# Combine two queries with logical and\n",
        "db.search((User.name == 'John') & (User.age <= 30))"
      ],
      "metadata": {
        "id": "GimfrwKh7ad8"
      },
      "execution_count": null,
      "outputs": []
    },
    {
      "cell_type": "code",
      "source": [
        "db.insert({'type': 'apple', 'count': 7})\n",
        "db.insert({'type': 'peach', 'count': 3})\n",
        "db.all()"
      ],
      "metadata": {
        "id": "Lj47gfR1784C"
      },
      "execution_count": null,
      "outputs": []
    },
    {
      "cell_type": "code",
      "source": [
        "for item in db:\n",
        "  print(item)"
      ],
      "metadata": {
        "id": "92WAG4Ft8GO-"
      },
      "execution_count": null,
      "outputs": []
    },
    {
      "cell_type": "code",
      "source": [
        "Fruit = Query()\n",
        "db.search(Fruit.type == 'peach')"
      ],
      "metadata": {
        "id": "7-4juCj08MtH"
      },
      "execution_count": null,
      "outputs": []
    },
    {
      "cell_type": "code",
      "source": [
        "db.search(Fruit.count > 5)"
      ],
      "metadata": {
        "id": "_uCGEsTQ8TRl"
      },
      "execution_count": null,
      "outputs": []
    },
    {
      "cell_type": "code",
      "source": [
        "db.update({'count': 10}, Fruit.type == 'apple')\n",
        "db.all()"
      ],
      "metadata": {
        "id": "Z6VfQqDQ8Yxn"
      },
      "execution_count": null,
      "outputs": []
    },
    {
      "cell_type": "code",
      "source": [
        "db.remove(Fruit.count < 5)\n",
        "db.all()"
      ],
      "metadata": {
        "id": "ZcGZMA1B8eo1"
      },
      "execution_count": null,
      "outputs": []
    },
    {
      "cell_type": "code",
      "source": [
        "db.truncate()\n",
        "db.all()"
      ],
      "metadata": {
        "id": "_KAH_qn18lHS"
      },
      "execution_count": null,
      "outputs": []
    },
    {
      "cell_type": "markdown",
      "source": [
        "## sqlite3"
      ],
      "metadata": {
        "id": "ywthx4nx47tv"
      }
    },
    {
      "cell_type": "code",
      "source": [
        "# https://docs.python.org/3/library/sqlite3.html\n",
        "# sqlite3 with PyScript, https://pythonprogramming.altervista.org/pyscript-using-sqlite-with-pyscript/\n",
        "import sqlite3\n",
        "\n",
        "con = sqlite3.connect(\"ex.db\")\n",
        "\n",
        "cur = con.cursor()\n",
        "\n",
        "try:\n",
        "  cur.execute(\"DROP TABLE movie\")\n",
        "except:\n",
        "  pass\n",
        "\n",
        "#cur.execute(\"CREATE TABLE IF NOT EXISTS  movie(title, year, score)\")\n",
        "cur.execute(\"CREATE TABLE movie(title, year, score)\")\n",
        "\n",
        "res = cur.execute(\"SELECT name FROM sqlite_master\")\n",
        "res.fetchone()\n",
        "res = cur.execute(\"SELECT name FROM sqlite_master WHERE name='spam'\")\n",
        "res.fetchone() is None\n",
        "\n",
        "cur.execute(\"\"\"\n",
        "    INSERT INTO movie VALUES\n",
        "        ('Monty Python and the Holy Grail', 1975, 8.2),\n",
        "        ('And Now for Something Completely Different', 1971, 7.5)\n",
        "\"\"\")\n",
        "\n",
        "con.commit()\n",
        "\n",
        "res = cur.execute(\"SELECT score FROM movie\")\n",
        "res.fetchall()\n",
        "\n",
        "data = [\n",
        "    (\"Monty Python Live at the Hollywood Bowl\", 1982, 7.9),\n",
        "    (\"Monty Python's The Meaning of Life\", 1983, 7.5),\n",
        "    (\"Monty Python's Life of Brian\", 1979, 8.0),\n",
        "]\n",
        "cur.executemany(\"INSERT INTO movie VALUES(?, ?, ?)\", data)\n",
        "con.commit()  # Remember to commit the transaction after executing INSERT.\n",
        "\n",
        "for row in cur.execute(\"SELECT year, title FROM movie ORDER BY year\"):\n",
        "    print(row)\n",
        "\n",
        "con.close()\n",
        "\n",
        "new_con = sqlite3.connect(\"tutorial.db\")\n",
        "new_cur = new_con.cursor()\n",
        "res = new_cur.execute(\"SELECT title, year FROM movie ORDER BY score DESC\")\n",
        "title, year = res.fetchone()\n",
        "\n",
        "print(f'The highest scoring Monty Python movie is {title!r}, released in {year}')\n"
      ],
      "metadata": {
        "id": "NCDhyLXE5Afo"
      },
      "execution_count": null,
      "outputs": []
    }
  ]
}