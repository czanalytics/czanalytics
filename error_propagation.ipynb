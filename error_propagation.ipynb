{
  "nbformat": 4,
  "nbformat_minor": 0,
  "metadata": {
    "colab": {
      "private_outputs": true,
      "provenance": [],
      "toc_visible": true,
      "authorship_tag": "ABX9TyM1t9a0m1WHRPktdFULWSTs",
      "include_colab_link": true
    },
    "kernelspec": {
      "name": "python3",
      "display_name": "Python 3"
    },
    "language_info": {
      "name": "python"
    }
  },
  "cells": [
    {
      "cell_type": "markdown",
      "metadata": {
        "id": "view-in-github",
        "colab_type": "text"
      },
      "source": [
        "<a href=\"https://colab.research.google.com/github/czanalytics/czanalytics/blob/main/error_propagation.ipynb\" target=\"_parent\"><img src=\"https://colab.research.google.com/assets/colab-badge.svg\" alt=\"Open In Colab\"/></a>"
      ]
    },
    {
      "cell_type": "code",
      "source": [
        "# Error Propagation\n",
        "\n",
        "We discuss error propagation and uncertainty estimation.\n",
        "\n",
        "Refs.\n",
        "\n",
        "- https://github.com/fjosw/pyerrors/blob/develop/examples/01_basic_example.ipynb\n",
        "- https://pypi.org/project/error-propagation/\n",
        "- https://risk-engineering.org/notebook/uncertainty-propagation.html\n",
        "- https://www.sciencedirect.com/science/article/pii/S0010465523000954"
      ],
      "metadata": {
        "id": "IRfGqBxhaShX"
      },
      "execution_count": null,
      "outputs": []
    },
    {
      "cell_type": "code",
      "execution_count": null,
      "metadata": {
        "id": "tSbUhXSmaQsV"
      },
      "outputs": [],
      "source": []
    },
    {
      "cell_type": "markdown",
      "source": [
        "## Library pyerrors\n",
        "\n",
        "Our first example replicates exmamples from\n",
        "https://github.com/fjosw/pyerrors/blob/develop/examples/01_basic_example.ipynb"
      ],
      "metadata": {
        "id": "UVjFBH_EMDNm"
      }
    },
    {
      "cell_type": "code",
      "source": [
        "%%capture\n",
        "!pip install pyerrors"
      ],
      "metadata": {
        "id": "YdkXwKSiInKL"
      },
      "execution_count": null,
      "outputs": []
    },
    {
      "cell_type": "code",
      "source": [
        "import numpy as np\n",
        "import matplotlib\n",
        "import matplotlib.pyplot as plt\n",
        "import pyerrors as pe"
      ],
      "metadata": {
        "id": "daMRg2IKIhwc"
      },
      "execution_count": null,
      "outputs": []
    },
    {
      "cell_type": "markdown",
      "source": [
        "## Latex matplotlib for Colab\n",
        "\n",
        "For matplotlib to work with Latex we need to install fonts\n",
        "https://learnsharewithdp.wordpress.com/2020/05/08/latex-matplotlib-google-colab/"
      ],
      "metadata": {
        "id": "-0OT9xNEQI0P"
      }
    },
    {
      "cell_type": "code",
      "source": [
        "%%capture\n",
        "def latex_conf():\n",
        "  ! sudo apt-get install texlive-latex-recommended\n",
        "  ! sudo apt-get install dvipng texlive-latex-extra texlive-fonts-recommended\n",
        "  ! wget http://mirrors.ctan.org/macros/latex/contrib/type1cm.zip\n",
        "  ! unzip type1cm.zip -d /tmp/type1cm\n",
        "  ! cd /tmp/type1cm/type1cm/ && sudo latex type1cm.ins\n",
        "  ! sudo mkdir /usr/share/texmf/tex/latex/type1cm\n",
        "  ! sudo cp /tmp/type1cm/type1cm/type1cm.sty /usr/share/texmf/tex/latex/type1cm\n",
        "  ! sudo texhash\n",
        "  !apt install cm-super\n",
        "\n",
        "latex_conf() # ~2 mins"
      ],
      "metadata": {
        "id": "jW7VaVbaOQCZ"
      },
      "execution_count": null,
      "outputs": []
    },
    {
      "cell_type": "code",
      "source": [],
      "metadata": {
        "id": "I0zInb2EPhTI"
      },
      "execution_count": null,
      "outputs": []
    },
    {
      "cell_type": "code",
      "source": [
        "print(plt.style.available)"
      ],
      "metadata": {
        "id": "u0nU1P9UKOqb"
      },
      "execution_count": null,
      "outputs": []
    },
    {
      "cell_type": "code",
      "source": [
        "#plt.style.use('./base_style.mplstyle') # ERROR: not valid style\n",
        "plt.style.use('classic')\n",
        "\n",
        "import shutil\n",
        "usetex = shutil.which('latex') != ''\n",
        "plt.rc('text', usetex=usetex)"
      ],
      "metadata": {
        "id": "aFm_cyJXIxAq"
      },
      "execution_count": null,
      "outputs": []
    },
    {
      "cell_type": "code",
      "source": [
        "if shutil.which('latex'): print('latex installed')"
      ],
      "metadata": {
        "id": "bXs9vv_bNjy2"
      },
      "execution_count": null,
      "outputs": []
    },
    {
      "cell_type": "code",
      "source": [
        "test_sample1 = np.random.normal(2.0, 0.5, 1000)\n",
        "test_sample2 = np.random.normal(1.0, 0.1, 1000)"
      ],
      "metadata": {
        "id": "UF3O0z5MJFB-"
      },
      "execution_count": null,
      "outputs": []
    },
    {
      "cell_type": "code",
      "source": [
        "obs1 = pe.Obs([test_sample1], ['ensemble1'])\n",
        "obs2 = pe.Obs([test_sample2], ['ensemble1'])"
      ],
      "metadata": {
        "id": "sw4BSir1JL21"
      },
      "execution_count": null,
      "outputs": []
    },
    {
      "cell_type": "code",
      "source": [
        "obs3 = np.log(obs1 ** 2 / obs2 ** 4)"
      ],
      "metadata": {
        "id": "BTLSFEqiJQ2B"
      },
      "execution_count": null,
      "outputs": []
    },
    {
      "cell_type": "code",
      "source": [
        "obs3.gamma_method()\n",
        "print(obs3)"
      ],
      "metadata": {
        "id": "qqUfqArsJU_O"
      },
      "execution_count": null,
      "outputs": []
    },
    {
      "cell_type": "code",
      "source": [
        "obs3.details()"
      ],
      "metadata": {
        "id": "yLIw_YqhJasp"
      },
      "execution_count": null,
      "outputs": []
    },
    {
      "cell_type": "code",
      "source": [
        "obs3.plot_tauint() # tex error"
      ],
      "metadata": {
        "id": "779qRoQlJgsw"
      },
      "execution_count": null,
      "outputs": []
    },
    {
      "cell_type": "code",
      "source": [
        "cov = np.array([[0.5, -0.2], [-0.2, 0.3]])  # Covariance matrix\n",
        "tau = [4, 8]  # Autocorrelation times\n",
        "c_obs1, c_obs2 = pe.misc.gen_correlated_data([2.8, 2.1], cov, 'ens1', tau)"
      ],
      "metadata": {
        "id": "iddI5UqeL2gR"
      },
      "execution_count": null,
      "outputs": []
    },
    {
      "cell_type": "code",
      "source": [
        "c_obs3 = np.sin(c_obs1 / c_obs2 - 1)\n",
        "c_obs3.gm()  # gm is a short alias for gamma_method\n",
        "c_obs3.details()"
      ],
      "metadata": {
        "id": "ywTv8XBgL8gG"
      },
      "execution_count": null,
      "outputs": []
    },
    {
      "cell_type": "code",
      "source": [
        "c_obs3.plot_rho() # latex error\n",
        "c_obs3.plot_tauint()\n",
        "\n",
        "c_obs3.gamma_method(tau_exp=20)\n",
        "c_obs3.details()"
      ],
      "metadata": {
        "id": "r81JHgtTMb8G"
      },
      "execution_count": null,
      "outputs": []
    }
  ]
}