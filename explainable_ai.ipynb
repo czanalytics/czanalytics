{
  "nbformat": 4,
  "nbformat_minor": 0,
  "metadata": {
    "colab": {
      "private_outputs": true,
      "provenance": [],
      "authorship_tag": "ABX9TyO3ZwsL8D4YF0TjqljBjEcp",
      "include_colab_link": true
    },
    "kernelspec": {
      "name": "python3",
      "display_name": "Python 3"
    },
    "language_info": {
      "name": "python"
    }
  },
  "cells": [
    {
      "cell_type": "markdown",
      "metadata": {
        "id": "view-in-github",
        "colab_type": "text"
      },
      "source": [
        "<a href=\"https://colab.research.google.com/github/czanalytics/czanalytics/blob/main/explainable_ai.ipynb\" target=\"_parent\"><img src=\"https://colab.research.google.com/assets/colab-badge.svg\" alt=\"Open In Colab\"/></a>"
      ]
    },
    {
      "cell_type": "markdown",
      "source": [
        "# Explainable AI\n",
        "\n",
        "We discuss generic eXplainable AI tools.\n",
        "[XAI](https://en.wikipedia.org/wiki/Explainable_artificial_intelligence) helps users of machine lerning systems by improving their understanding of how the models reason.\n",
        "\n",
        "[LIME and SHAP build build trust](https://www.datacamp.com/tutorial/explainable-ai-understanding-and-trusting-machine-learning-models) by highlighting ransparency and fairness in AI-driven decisions."
      ],
      "metadata": {
        "id": "o-nYrPRNaBWy"
      }
    },
    {
      "cell_type": "code",
      "source": [
        "!pip install lime &> /dev/null"
      ],
      "metadata": {
        "id": "in8Y8KnMgH7C"
      },
      "execution_count": null,
      "outputs": []
    },
    {
      "cell_type": "code",
      "execution_count": null,
      "metadata": {
        "id": "k6XBizmuZSpr"
      },
      "outputs": [],
      "source": [
        "import lime"
      ]
    },
    {
      "cell_type": "code",
      "source": [
        "from sklearn.datasets import load_boston\n"
      ],
      "metadata": {
        "id": "PfPY7o4bhAJg"
      },
      "execution_count": null,
      "outputs": []
    },
    {
      "cell_type": "code",
      "source": [
        "  from sklearn.datasets import fetch_california_housing\n",
        "  housing = fetch_california_housing()"
      ],
      "metadata": {
        "id": "vW8LT7hJi4xZ"
      },
      "execution_count": null,
      "outputs": []
    },
    {
      "cell_type": "code",
      "source": [
        "# we proceed with unethical dataset\n",
        "import pandas as pd\n",
        "import numpy as np\n",
        "\n",
        "data_url = \"http://lib.stat.cmu.edu/datasets/boston\"\n",
        "raw_df = pd.read_csv(data_url, sep=\"\\s+\", skiprows=22, header=None)\n",
        "data = np.hstack([raw_df.values[::2, :], raw_df.values[1::2, :2]])\n",
        "target = raw_df.values[1::2, 2]\n",
        "\n"
      ],
      "metadata": {
        "id": "0HbUze1vhVOo"
      },
      "execution_count": null,
      "outputs": []
    },
    {
      "cell_type": "code",
      "source": [
        "import sklearn.ensemble\n",
        "import sklearn.model_selection\n",
        "import numpy as np\n",
        "\n",
        "train, test, labels_train, labels_test = sklearn.model_selection.train_test_split(data, \n",
        "                                                                                  target, \n",
        "                                                                                  train_size=0.80, \n",
        "                                                                                  test_size=0.20)"
      ],
      "metadata": {
        "id": "cJq_cY4oiER0"
      },
      "execution_count": null,
      "outputs": []
    }
  ]
}