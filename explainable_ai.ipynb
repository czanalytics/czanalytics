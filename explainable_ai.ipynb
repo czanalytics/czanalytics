{
  "nbformat": 4,
  "nbformat_minor": 0,
  "metadata": {
    "colab": {
      "private_outputs": true,
      "provenance": [],
      "authorship_tag": "ABX9TyNf9NUukoYAdOFiCmUS5tDk",
      "include_colab_link": true
    },
    "kernelspec": {
      "name": "python3",
      "display_name": "Python 3"
    },
    "language_info": {
      "name": "python"
    }
  },
  "cells": [
    {
      "cell_type": "markdown",
      "metadata": {
        "id": "view-in-github",
        "colab_type": "text"
      },
      "source": [
        "<a href=\"https://colab.research.google.com/github/czanalytics/czanalytics/blob/main/explainable_ai.ipynb\" target=\"_parent\"><img src=\"https://colab.research.google.com/assets/colab-badge.svg\" alt=\"Open In Colab\"/></a>"
      ]
    },
    {
      "cell_type": "markdown",
      "source": [
        "# Explainable AI\n",
        "\n",
        "We discuss generic eXplainable AI tools.\n",
        "[XAI](https://en.wikipedia.org/wiki/Explainable_artificial_intelligence) helps users of machine lerning systems by improving their understanding of how the models reason.\n",
        "\n",
        "[LIME and SHAP build build trust](https://www.datacamp.com/tutorial/explainable-ai-understanding-and-trusting-machine-learning-models) by highlighting ransparency and fairness in AI-driven decisions."
      ],
      "metadata": {
        "id": "o-nYrPRNaBWy"
      }
    },
    {
      "cell_type": "markdown",
      "source": [
        "## Boston dataset\n",
        "\n",
        "The Boston housing prices dataset has an ethical problem. \n",
        "We use LIME explainer to better understand models created using this data."
      ],
      "metadata": {
        "id": "d9OX5kQ6lW5m"
      }
    },
    {
      "cell_type": "code",
      "source": [
        "!pip install lime &> /dev/null"
      ],
      "metadata": {
        "id": "in8Y8KnMgH7C"
      },
      "execution_count": null,
      "outputs": []
    },
    {
      "cell_type": "code",
      "execution_count": null,
      "metadata": {
        "id": "k6XBizmuZSpr"
      },
      "outputs": [],
      "source": [
        "import lime"
      ]
    },
    {
      "cell_type": "code",
      "source": [
        "# The scikit-learn strongly discourage the use of this dataset \n",
        "# unless the purpose of the code is to study and educate about ethical issues\n",
        "# from sklearn.datasets import load_boston"
      ],
      "metadata": {
        "id": "PfPY7o4bhAJg"
      },
      "execution_count": null,
      "outputs": []
    },
    {
      "cell_type": "code",
      "source": [
        "# we proceed with unethical dataset\n",
        "import pandas as pd\n",
        "import numpy as np\n",
        "\n",
        "data_url = \"http://lib.stat.cmu.edu/datasets/boston\"\n",
        "raw_df = pd.read_csv(data_url, sep=\"\\s+\", skiprows=22, header=None)\n",
        "\n",
        "data = np.hstack([raw_df.values[::2, :], raw_df.values[1::2, :2]])\n",
        "target = raw_df.values[1::2, 2]"
      ],
      "metadata": {
        "id": "0HbUze1vhVOo"
      },
      "execution_count": null,
      "outputs": []
    },
    {
      "cell_type": "code",
      "source": [
        "#Variables in order:\n",
        "# CRIM     per capita crime rate by town\n",
        "# ZN       proportion of residential land zoned for lots over 25,000 sq.ft.\n",
        "# INDUS    proportion of non-retail business acres per town\n",
        "# CHAS     Charles River dummy variable (= 1 if tract bounds river; 0 otherwise)\n",
        "# NOX      nitric oxides concentration (parts per 10 million)\n",
        "# RM       average number of rooms per dwelling\n",
        "# AGE      proportion of owner-occupied units built prior to 1940\n",
        "# DIS      weighted distances to five Boston employment centres\n",
        "# RAD      index of accessibility to radial highways\n",
        "# TAX      full-value property-tax rate per $10,000\n",
        "# PTRATIO  pupil-teacher ratio by town\n",
        "# B        1000(Bk - 0.63)^2 where Bk is the proportion of blacks by town\n",
        "# LSTAT    % lower status of the population\n",
        "# MEDV     Median value of owner-occupied homes in $1000's"
      ],
      "metadata": {
        "id": "-s26tdC-oVYM"
      },
      "execution_count": null,
      "outputs": []
    },
    {
      "cell_type": "code",
      "source": [
        "feature_names = ['CRIM', 'ZN', 'INDUS', 'CHAS', 'NOX', 'RM', \n",
        "                 'AGE', 'DIS', 'RAD', 'TAX', 'PTRATIO', 'B', 'LSTAT']"
      ],
      "metadata": {
        "id": "qBsLadJ5qEHD"
      },
      "execution_count": null,
      "outputs": []
    },
    {
      "cell_type": "code",
      "source": [
        "rf = sklearn.ensemble.RandomForestRegressor(n_estimators=1000)"
      ],
      "metadata": {
        "id": "LiLn62ElkJ-4"
      },
      "execution_count": null,
      "outputs": []
    },
    {
      "cell_type": "code",
      "source": [
        "import sklearn.ensemble\n",
        "import sklearn.model_selection\n",
        "import numpy as np\n",
        "\n",
        "train, test, labels_train, labels_test = sklearn.model_selection.train_test_split(data, \n",
        "                                                                                  target, \n",
        "                                                                                  train_size=0.80, \n",
        "                                                                                  test_size=0.20)"
      ],
      "metadata": {
        "id": "cJq_cY4oiER0"
      },
      "execution_count": null,
      "outputs": []
    },
    {
      "cell_type": "code",
      "source": [
        "rf.fit(train, labels_train)"
      ],
      "metadata": {
        "id": "8-E20MJkkD3F"
      },
      "execution_count": null,
      "outputs": []
    },
    {
      "cell_type": "code",
      "source": [
        "print('Random Forest MSError', np.mean((rf.predict(test) - labels_test) ** 2))"
      ],
      "metadata": {
        "id": "oKK0Q0qOkVFP"
      },
      "execution_count": null,
      "outputs": []
    },
    {
      "cell_type": "code",
      "source": [
        "print('MSError when predicting the mean', np.mean((labels_train.mean() - labels_test) ** 2))"
      ],
      "metadata": {
        "id": "iCPJf9RKkbdz"
      },
      "execution_count": null,
      "outputs": []
    },
    {
      "cell_type": "code",
      "source": [
        "categorical_features = np.argwhere(np.array([len(set(data[:,x])) for x in range(data.shape[1])]) <= 10).flatten()"
      ],
      "metadata": {
        "id": "bOwsgKVbkjbY"
      },
      "execution_count": null,
      "outputs": []
    },
    {
      "cell_type": "code",
      "source": [
        "import lime\n",
        "import lime.lime_tabular\n",
        "\n",
        "explainer = lime.lime_tabular.LimeTabularExplainer(train, feature_names=feature_names, \n",
        "                                                   class_names=['price'], \n",
        "                                                   categorical_features=categorical_features, \n",
        "                                                   verbose=True, mode='regression')\n"
      ],
      "metadata": {
        "id": "pp-1T7dBku-F"
      },
      "execution_count": null,
      "outputs": []
    },
    {
      "cell_type": "code",
      "source": [
        "i = 25\n",
        "exp = explainer.explain_instance(test[i], rf.predict, num_features=5)"
      ],
      "metadata": {
        "id": "OjXDHdYJlG1r"
      },
      "execution_count": null,
      "outputs": []
    },
    {
      "cell_type": "code",
      "source": [
        "exp.show_in_notebook(show_table=True)"
      ],
      "metadata": {
        "id": "URP7sVwklLIp"
      },
      "execution_count": null,
      "outputs": []
    },
    {
      "cell_type": "code",
      "source": [
        "exp.as_list()"
      ],
      "metadata": {
        "id": "SZrac-bqlOJU"
      },
      "execution_count": null,
      "outputs": []
    }
  ]
}