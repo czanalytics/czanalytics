{
  "nbformat": 4,
  "nbformat_minor": 0,
  "metadata": {
    "colab": {
      "private_outputs": true,
      "provenance": [],
      "authorship_tag": "ABX9TyMhH2UTQOcLazyy02Ic5W7n",
      "include_colab_link": true
    },
    "kernelspec": {
      "name": "python3",
      "display_name": "Python 3"
    },
    "language_info": {
      "name": "python"
    }
  },
  "cells": [
    {
      "cell_type": "markdown",
      "metadata": {
        "id": "view-in-github",
        "colab_type": "text"
      },
      "source": [
        "<a href=\"https://colab.research.google.com/github/czanalytics/czanalytics/blob/main/explainable_ai.ipynb\" target=\"_parent\"><img src=\"https://colab.research.google.com/assets/colab-badge.svg\" alt=\"Open In Colab\"/></a>"
      ]
    },
    {
      "cell_type": "markdown",
      "source": [
        "# Explainable AI\n",
        "\n",
        "We discuss generic eXplainable ML tools such as LIME and SHAP."
      ],
      "metadata": {
        "id": "o-nYrPRNaBWy"
      }
    },
    {
      "cell_type": "code",
      "source": [
        "!pip install lime &> /dev/null"
      ],
      "metadata": {
        "id": "l5qqyN7_bSGK"
      },
      "execution_count": null,
      "outputs": []
    },
    {
      "cell_type": "code",
      "execution_count": null,
      "metadata": {
        "id": "k6XBizmuZSpr"
      },
      "outputs": [],
      "source": [
        "import lime"
      ]
    }
  ]
}