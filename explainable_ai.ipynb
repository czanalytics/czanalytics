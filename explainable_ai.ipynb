{
  "nbformat": 4,
  "nbformat_minor": 0,
  "metadata": {
    "colab": {
      "private_outputs": true,
      "provenance": [],
      "authorship_tag": "ABX9TyMGTk5AMXr3fUbUchw7APS+",
      "include_colab_link": true
    },
    "kernelspec": {
      "name": "python3",
      "display_name": "Python 3"
    },
    "language_info": {
      "name": "python"
    }
  },
  "cells": [
    {
      "cell_type": "markdown",
      "metadata": {
        "id": "view-in-github",
        "colab_type": "text"
      },
      "source": [
        "<a href=\"https://colab.research.google.com/github/czanalytics/czanalytics/blob/main/explainable_ai.ipynb\" target=\"_parent\"><img src=\"https://colab.research.google.com/assets/colab-badge.svg\" alt=\"Open In Colab\"/></a>"
      ]
    },
    {
      "cell_type": "markdown",
      "source": [
        "# Explainable AI\n",
        "\n",
        "We discuss generic eXplainable AI tools.\n",
        "[XAI](https://en.wikipedia.org/wiki/Explainable_artificial_intelligence) helps users of AI systems by improving their understanding of how those systems reason.\n",
        "\n",
        "[LIME and SHAP build build trust](https://www.datacamp.com/tutorial/explainable-ai-understanding-and-trusting-machine-learning-models) by highlighting ransparency and fairness in AI-driven decisions."
      ],
      "metadata": {
        "id": "o-nYrPRNaBWy"
      }
    },
    {
      "cell_type": "code",
      "execution_count": null,
      "metadata": {
        "id": "k6XBizmuZSpr"
      },
      "outputs": [],
      "source": [
        "import lime"
      ]
    }
  ]
}