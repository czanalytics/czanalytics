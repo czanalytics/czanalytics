{
  "nbformat": 4,
  "nbformat_minor": 0,
  "metadata": {
    "colab": {
      "private_outputs": true,
      "provenance": [],
      "authorship_tag": "ABX9TyMVGFnxWELxD51VApmazaZ5",
      "include_colab_link": true
    },
    "kernelspec": {
      "name": "python3",
      "display_name": "Python 3"
    },
    "language_info": {
      "name": "python"
    }
  },
  "cells": [
    {
      "cell_type": "markdown",
      "metadata": {
        "id": "view-in-github",
        "colab_type": "text"
      },
      "source": [
        "<a href=\"https://colab.research.google.com/github/czanalytics/czanalytics/blob/main/association_rule_mining.ipynb\" target=\"_parent\"><img src=\"https://colab.research.google.com/assets/colab-badge.svg\" alt=\"Open In Colab\"/></a>"
      ]
    },
    {
      "cell_type": "markdown",
      "source": [
        "# Association Rule Mining\n",
        "\n",
        "We discuss association rules generation from frequent itemsets.\n",
        "Typical application is discovering consumer behaviour patterns from transaction data.\n",
        "\n",
        "Refs.\n",
        "\n",
        "- https://rasbt.github.io/mlxtend/user_guide/frequent_patterns/association_rules/\n"
      ],
      "metadata": {
        "id": "Rn_P7sFf1JMv"
      }
    },
    {
      "cell_type": "code",
      "source": [
        "%pip install mlxtend --upgrade"
      ],
      "metadata": {
        "id": "s0iIxcyn2DJ0"
      },
      "execution_count": null,
      "outputs": []
    },
    {
      "cell_type": "code",
      "execution_count": null,
      "metadata": {
        "id": "u-JSYVzK1IKh"
      },
      "outputs": [],
      "source": [
        "import pandas as pd\n",
        "from mlxtend.preprocessing import TransactionEncoder\n",
        "from mlxtend.frequent_patterns import apriori, fpmax, fpgrowth\n"
      ]
    },
    {
      "cell_type": "code",
      "source": [
        "dataset = [['Milk', 'Onion', 'Nutmeg', 'Kidney Beans', 'Eggs', 'Yogurt'],\n",
        "           ['Dill', 'Onion', 'Nutmeg', 'Kidney Beans', 'Eggs', 'Yogurt'],\n",
        "           ['Milk', 'Apple', 'Kidney Beans', 'Eggs'],\n",
        "           ['Milk', 'Unicorn', 'Corn', 'Kidney Beans', 'Yogurt'],\n",
        "           ['Corn', 'Onion', 'Onion', 'Kidney Beans', 'Ice cream', 'Eggs']]\n",
        "\n",
        "te = TransactionEncoder()\n",
        "te_ary = te.fit(dataset).transform(dataset)\n",
        "df = pd.DataFrame(te_ary, columns=te.columns_)\n",
        "\n",
        "#frequent_itemsets = fpgrowth(df, min_support=0.6, use_colnames=True) # ERROR\n",
        "### alternatively:\n",
        "frequent_itemsets = apriori(df, min_support=0.6, use_colnames=True)\n",
        "#frequent_itemsets = fpmax(df, min_support=0.6, use_colnames=True) # ERROR\n",
        "\n",
        "frequent_itemsets"
      ],
      "metadata": {
        "id": "GCMvMkBE10-O"
      },
      "execution_count": null,
      "outputs": []
    },
    {
      "cell_type": "code",
      "source": [
        "from mlxtend.frequent_patterns import association_rules\n",
        "\n",
        "association_rules(frequent_itemsets, metric=\"confidence\", min_threshold=0.7)"
      ],
      "metadata": {
        "id": "6ahpki7d3mV3"
      },
      "execution_count": null,
      "outputs": []
    },
    {
      "cell_type": "code",
      "source": [
        "rules = association_rules(frequent_itemsets, metric=\"lift\", min_threshold=1.2)\n",
        "rules"
      ],
      "metadata": {
        "id": "FNIoYy3M3rxr"
      },
      "execution_count": null,
      "outputs": []
    },
    {
      "cell_type": "code",
      "source": [
        "rules[\"antecedent_len\"] = rules[\"antecedents\"].apply(lambda x: len(x))\n",
        "rules"
      ],
      "metadata": {
        "id": "vPVyHmAi3xP_"
      },
      "execution_count": null,
      "outputs": []
    },
    {
      "cell_type": "code",
      "source": [
        "rules[ (rules['antecedent_len'] >= 2) &\n",
        "       (rules['confidence'] > 0.75) &\n",
        "       (rules['lift'] > 1.2) ]"
      ],
      "metadata": {
        "id": "3h7_D5p031pj"
      },
      "execution_count": null,
      "outputs": []
    },
    {
      "cell_type": "code",
      "source": [
        "rules[rules['antecedents'] == {'Eggs', 'Kidney Beans'}]"
      ],
      "metadata": {
        "id": "6CJptvFw35_N"
      },
      "execution_count": null,
      "outputs": []
    },
    {
      "cell_type": "markdown",
      "source": [
        "Example 3"
      ],
      "metadata": {
        "id": "ayhxsAvJ3_nd"
      }
    },
    {
      "cell_type": "code",
      "source": [
        "import pandas as pd\n",
        "\n",
        "dict = {'itemsets': [['177', '176'], ['177', '179'],\n",
        "                     ['176', '178'], ['176', '179'],\n",
        "                     ['93', '100'], ['177', '178'],\n",
        "                     ['177', '176', '178']],\n",
        "        'support':[0.253623, 0.253623, 0.217391,\n",
        "                   0.217391, 0.181159, 0.108696, 0.108696]}\n",
        "\n",
        "freq_itemsets = pd.DataFrame(dict)\n",
        "freq_itemsets"
      ],
      "metadata": {
        "id": "hQILRS4U4B0y"
      },
      "execution_count": null,
      "outputs": []
    },
    {
      "cell_type": "code",
      "source": [
        "from mlxtend.frequent_patterns import association_rules\n",
        "\n",
        "res = association_rules(freq_itemsets, support_only=True, min_threshold=0.1)\n",
        "res"
      ],
      "metadata": {
        "id": "PSA4KfC24HL7"
      },
      "execution_count": null,
      "outputs": []
    },
    {
      "cell_type": "code",
      "source": [
        "res = res[['antecedents', 'consequents', 'support']]\n",
        "res"
      ],
      "metadata": {
        "id": "niJBR86i4L5O"
      },
      "execution_count": null,
      "outputs": []
    },
    {
      "cell_type": "code",
      "source": [
        "dataset = [['Milk', 'Onion', 'Nutmeg', 'Kidney Beans', 'Eggs', 'Yogurt'],\n",
        "           ['Dill', 'Onion', 'Nutmeg', 'Kidney Beans', 'Eggs', 'Yogurt'],\n",
        "           ['Milk', 'Apple', 'Kidney Beans', 'Eggs'],\n",
        "           ['Milk', 'Unicorn', 'Corn', 'Kidney Beans', 'Yogurt'],\n",
        "           ['Corn', 'Onion', 'Onion', 'Kidney Beans', 'Ice cream', 'Eggs']]\n",
        "\n",
        "te = TransactionEncoder()\n",
        "te_ary = te.fit(dataset).transform(dataset)\n",
        "df = pd.DataFrame(te_ary, columns=te.columns_)\n",
        "\n",
        "frequent_itemsets = apriori(df, min_support=0.6, use_colnames=True)\n",
        "rules = association_rules(frequent_itemsets, metric=\"lift\", min_threshold=1.2)\n",
        "rules"
      ],
      "metadata": {
        "id": "12qS9OLp4T5H"
      },
      "execution_count": null,
      "outputs": []
    },
    {
      "cell_type": "code",
      "source": [
        "antecedent_sele = rules['antecedents'] == frozenset({'Onion', 'Kidney Beans'}) # or  frozenset({'Kidney Beans', 'Onion'})\n",
        "consequent_sele = rules['consequents'] == frozenset({'Eggs'})\n",
        "final_sele = (antecedent_sele & consequent_sele)\n",
        "\n",
        "rules.loc[ ~final_sele ]"
      ],
      "metadata": {
        "id": "imFR7NoW4ji2"
      },
      "execution_count": null,
      "outputs": []
    }
  ]
}