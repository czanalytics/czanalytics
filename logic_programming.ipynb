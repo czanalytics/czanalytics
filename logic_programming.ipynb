{
  "nbformat": 4,
  "nbformat_minor": 0,
  "metadata": {
    "colab": {
      "private_outputs": true,
      "provenance": [],
      "authorship_tag": "ABX9TyOR/9tO6ofwUygiPOKKVwrw",
      "include_colab_link": true
    },
    "kernelspec": {
      "name": "python3",
      "display_name": "Python 3"
    },
    "language_info": {
      "name": "python"
    }
  },
  "cells": [
    {
      "cell_type": "markdown",
      "metadata": {
        "id": "view-in-github",
        "colab_type": "text"
      },
      "source": [
        "<a href=\"https://colab.research.google.com/github/czanalytics/czanalytics/blob/main/logic_programming.ipynb\" target=\"_parent\"><img src=\"https://colab.research.google.com/assets/colab-badge.svg\" alt=\"Open In Colab\"/></a>"
      ]
    },
    {
      "cell_type": "markdown",
      "source": [
        "# Logic Programming\n",
        "\n",
        "We explore ways to use symbolic reasoning, that is  Knowldege Bases, KBs, with facts and rules for logic reasoning.\n",
        "\n",
        "In addition to basic introduction, we discuss possible use of KB in\n",
        "\n",
        "- machine learning\n",
        "- industrial use cases\n",
        "- business rules\n",
        "\n",
        "Refs.\n",
        "\n",
        "- https://github.com/MNoorFawi/pytholog\n"
      ],
      "metadata": {
        "id": "uSfYDLh6PFNw"
      }
    },
    {
      "cell_type": "code",
      "execution_count": null,
      "metadata": {
        "id": "tSbUhXSmaQsV"
      },
      "outputs": [],
      "source": [
        "!pip install pytholog"
      ]
    },
    {
      "cell_type": "code",
      "source": [
        "import pytholog as pl"
      ],
      "metadata": {
        "id": "yBHhkE9TOf0j"
      },
      "execution_count": null,
      "outputs": []
    },
    {
      "cell_type": "code",
      "source": [
        "new_kb = pl.KnowledgeBase(\"flavor\")\n",
        "\n",
        "new_kb([\"likes(noor, sausage)\",\n",
        "        \"likes(melissa, pasta)\",\n",
        "        \"likes(dmitry, cookie)\",\n",
        "        \"likes(nikita, sausage)\",\n",
        "        \"likes(assel, limonade)\",\n",
        "        \"food_type(gouda, cheese)\",\n",
        "        \"food_type(ritz, cracker)\",\n",
        "        \"food_type(steak, meat)\",\n",
        "        \"food_type(sausage, meat)\",\n",
        "        \"food_type(limonade, juice)\",\n",
        "        \"food_type(cookie, dessert)\",\n",
        "        \"flavor(sweet, dessert)\",\n",
        "        \"flavor(savory, meat)\",\n",
        "        \"flavor(savory, cheese)\",\n",
        "        \"flavor(sweet, juice)\",\n",
        "        \"food_flavor(X, Y) :- food_type(X, Z), flavor(Y, Z)\",\n",
        "        \"dish_to_like(X, Y) :- likes(X, L), food_type(L, T), flavor(F, T), food_flavor(Y, F), neq(L, Y)\"])\n"
      ],
      "metadata": {
        "id": "4PDqbgWZOWzy"
      },
      "execution_count": null,
      "outputs": []
    },
    {
      "cell_type": "code",
      "source": [
        "new_kb.query(pl.Expr(\"likes(noor, sausage)\")) # ['Yes']\n",
        "new_kb.query(pl.Expr(\"likes(noor, pasta)\")) # ['No']"
      ],
      "metadata": {
        "id": "gquYYRh5QA69"
      },
      "execution_count": null,
      "outputs": []
    },
    {
      "cell_type": "code",
      "source": [
        "# query 1\n",
        "from time import time\n",
        "start = time()\n",
        "print(new_kb.query(pl.Expr(\"food_flavor(What, sweet)\")))\n",
        "print(time() - start)\n",
        "\n",
        "# [{'What': 'limonade'}, {'What': 'cookie'}]\n",
        "# 0.0020236968994140625"
      ],
      "metadata": {
        "id": "x14fXSE3QP8I"
      },
      "execution_count": null,
      "outputs": []
    },
    {
      "cell_type": "code",
      "source": [
        "# query 2\n",
        "start = time()\n",
        "print(new_kb.query(pl.Expr(\"food_flavor(Food, sweet)\")))\n",
        "print(time() - start)\n",
        "\n",
        "# [{'Food': 'limonade'}, {'Food': 'cookie'}]\n",
        "# 0.0"
      ],
      "metadata": {
        "id": "WyWIdVHJQWMJ"
      },
      "execution_count": null,
      "outputs": []
    },
    {
      "cell_type": "code",
      "source": [
        "start = time()\n",
        "print(new_kb.query(pl.Expr(\"dish_to_like(noor, What)\")))\n",
        "print(time() - start)\n",
        "\n",
        "# [{'What': 'gouda'}, {'What': 'steak'}]\n",
        "# 0.001992940902709961\n"
      ],
      "metadata": {
        "id": "5sLYX8cgQdkN"
      },
      "execution_count": null,
      "outputs": []
    },
    {
      "cell_type": "code",
      "source": [
        "start = time()\n",
        "print(new_kb.query(pl.Expr(\"dish_to_like(noor, What)\")))\n",
        "print(time() - start)\n",
        "\n",
        "# [{'What': 'gouda'}, {'What': 'steak'}]\n",
        "# 0.0"
      ],
      "metadata": {
        "id": "RnTpFJGPQi9G"
      },
      "execution_count": null,
      "outputs": []
    },
    {
      "cell_type": "code",
      "source": [
        "## new knowledge base object\n",
        "city_color = pl.KnowledgeBase(\"city_color\")\n",
        "city_color([\n",
        "    \"different(red, green)\",\n",
        "    \"different(red, blue)\",\n",
        "    \"different(green, red)\",\n",
        "    \"different(green, blue)\",\n",
        "    \"different(blue, red)\",\n",
        "    \"different(blue, green)\",\n",
        "    \"coloring(A, M, G, T, F) :- different(M, T),different(M, A),different(A, T),different(A, M),different(A, G),different(A, F),different(G, F),different(G, T)\"\n",
        "])"
      ],
      "metadata": {
        "id": "dy---2cYQo2m"
      },
      "execution_count": null,
      "outputs": []
    },
    {
      "cell_type": "code",
      "source": [
        "## we will use [0] to return only one answer\n",
        "## as prolog will give all possible combinations and answers\n",
        "city_color.query(pl.Expr(\"coloring(Alabama, Mississippi, Georgia, Tennessee, Florida)\"), cut = True)\n",
        "\n",
        "# {'Alabama': 'blue',\n",
        "#  'Mississippi': 'red',\n",
        "#  'Georgia': 'red',\n",
        "#  'Tennessee': 'green',\n",
        "#  'Florida': 'green'}"
      ],
      "metadata": {
        "id": "QAu-N09uQvaB"
      },
      "execution_count": null,
      "outputs": []
    },
    {
      "cell_type": "code",
      "source": [
        "battery_kb = pl.KnowledgeBase(\"battery\")\n",
        "battery_kb([\n",
        "\t\"battery(dead,P) :- voltmeter(battery_terminals,abnormal,P2), P is P2 + 0.5\",\n",
        "\t\"battery(dead,P) :- electrical_problem(P), P >= 0.8\",\n",
        "\t\"battery(dead,P) :- electrical_problem(P2), age(battery,old,P3), P is P2 * P3 * 0.9\",\n",
        "\t\"electrical_problem(0.7)\",\n",
        "\t\"age(battery,old, 0.8)\",\n",
        "\t\"voltmeter(battery_terminals,abnormal,0.3)\"])\n",
        "\n",
        "battery_kb.query(pl.Expr(\"battery(dead, Probability)\"))\n",
        "\n",
        "# [{'Probability': 0.8}, {'Probability': 'No'}, {'Probability': 0.504}]\n",
        "# the second one is \"No\" because the condition has not been met."
      ],
      "metadata": {
        "id": "wddgyrWkQ02e"
      },
      "execution_count": null,
      "outputs": []
    },
    {
      "cell_type": "code",
      "source": [
        "iris_kb = pl.KnowledgeBase(\"iris\")\n",
        "iris_kb([## Rules\n",
        "\t\"species(setosa, Truth) :- petal_width(W), Truth is W <= 0.80\",\n",
        "\t\"species(versicolor, Truth) :- petal_width(W), petal_length(L), Truth is W > 0.80 and L <= 4.95\",\n",
        "\t\"species(virginica, Truth) :- petal_width(W), petal_length(L), Truth is W > 0.80 and L > 4.95\",\n",
        "\t## New record\n",
        "\t\"petal_length(5.1)\",\n",
        "\t\"petal_width(2.4)\"])"
      ],
      "metadata": {
        "id": "61UkrBbAQ6wA"
      },
      "execution_count": null,
      "outputs": []
    },
    {
      "cell_type": "code",
      "source": [
        "iris_kb.query(pl.Expr(\"species(Class, Truth)\"))\n",
        "\n",
        "# [{'Class': 'setosa', 'Truth': 'No'},\n",
        "#  {'Class': 'versicolor', 'Truth': 'No'},\n",
        "#  {'Class': 'virginica', 'Truth': 'Yes'}]"
      ],
      "metadata": {
        "id": "aLx0vU-5Q_Ce"
      },
      "execution_count": null,
      "outputs": []
    },
    {
      "cell_type": "code",
      "source": [
        "iris_kb.query(pl.Expr(\"species(Class, Truth)\"))\n",
        "\n",
        "# [{'Class': 'setosa', 'Truth': 'No'},\n",
        "#  {'Class': 'versicolor', 'Truth': 'No'},\n",
        "#  {'Class': 'virginica', 'Truth': 'Yes'}]"
      ],
      "metadata": {
        "id": "zomKgUFmREtE"
      },
      "execution_count": null,
      "outputs": []
    },
    {
      "cell_type": "code",
      "source": [
        "iris_kb.rule_search(pl.Expr(\"species(Species, Truth)\"))\n",
        "\n",
        "# [species(setosa,Truth):-petal_width(W),TruthisW<=0.80,\n",
        "#  species(versicolor,Truth):-petal_width(W),petal_length(L),TruthisW>0.80andL<=4.95,\n",
        "#  species(virginica,Truth):-petal_width(W),petal_length(L),TruthisW>0.80andL>4.95]"
      ],
      "metadata": {
        "id": "wmbQIMhPRJWJ"
      },
      "execution_count": null,
      "outputs": []
    },
    {
      "cell_type": "code",
      "source": [
        "new_kb.clear_cache()"
      ],
      "metadata": {
        "id": "VCjYZ80dRQ3q"
      },
      "execution_count": null,
      "outputs": []
    },
    {
      "cell_type": "code",
      "source": [
        "import pandas as pd\n",
        "df = pd.DataFrame({\"has_work\": [\"david\", \"daniel\"], \"tasks\": [8, 3]})\n",
        "df\n",
        "#\thas_work  tasks\n",
        "#0\t   david\t  8\n",
        "#1\t  daniel\t  3\n",
        "ex = pl.KnowledgeBase()\n",
        "for i in range(df.shape[0]):\n",
        "    ex([f\"has_work({df.has_work[i]}, {df.tasks[i]})\"])\n",
        "\n",
        "ex.db\n",
        "# {'has_work': {'facts': [has_work(david,8), has_work(daniel,3)],\n",
        "#   'goals': [[], []],\n",
        "#   'terms': [['david', '8'], ['daniel', '3']]}}"
      ],
      "metadata": {
        "id": "rwsvCoJ0RbVB"
      },
      "execution_count": null,
      "outputs": []
    },
    {
      "cell_type": "code",
      "source": [
        "graph = pl.KnowledgeBase(\"graph\")\n",
        "graph([\n",
        "\t\"edge(a, b, 6)\", \"edge(a, c, 1)\", \"edge(b, e, 4)\",\n",
        "\t\"edge(b, f, 3)\", \"edge(c, d, 3)\", \"edge(d, e, 8)\",\n",
        "\t\"edge(e, f, 2)\",\n",
        "\t\"path(X, Y, W) :- edge(X , Y, W)\",\n",
        "\t\"path(X, Y, W) :- edge(X, Z, W1), path(Z, Y, W2), W is W1 + W2\"])\n",
        "\n",
        "answer, path = graph.query(pl.Expr(\"path(a, f, W)\"), show_path = True)\n",
        "print(answer)\n",
        "print([x for x in path if str(x) > \"Z\"])\n",
        "\n",
        "# [{'W': 9}, {'W': 12}, {'W': 14}]\n",
        "# ['d', 'b', 'e', 'c']"
      ],
      "metadata": {
        "id": "UBs2QtTpRjo2"
      },
      "execution_count": null,
      "outputs": []
    },
    {
      "cell_type": "code",
      "source": [
        "answer, path = graph.query(pl.Expr(\"path(a, e, W)\"), show_path = True, cut = True)\n",
        "print(answer)\n",
        "print([x for x in path if str(x) > \"Z\"])\n",
        "\n",
        "# [{'W': 10}]\n",
        "# ['b']"
      ],
      "metadata": {
        "id": "9Ba0kUPPRpYz"
      },
      "execution_count": null,
      "outputs": []
    }
  ]
}