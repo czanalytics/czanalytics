{
  "nbformat": 4,
  "nbformat_minor": 0,
  "metadata": {
    "colab": {
      "private_outputs": true,
      "provenance": [],
      "authorship_tag": "ABX9TyN7kTYUgoYYbKrBRZbRrtpD",
      "include_colab_link": true
    },
    "kernelspec": {
      "name": "python3",
      "display_name": "Python 3"
    },
    "language_info": {
      "name": "python"
    }
  },
  "cells": [
    {
      "cell_type": "markdown",
      "metadata": {
        "id": "view-in-github",
        "colab_type": "text"
      },
      "source": [
        "<a href=\"https://colab.research.google.com/github/czanalytics/czanalytics/blob/main/logic_programming.ipynb\" target=\"_parent\"><img src=\"https://colab.research.google.com/assets/colab-badge.svg\" alt=\"Open In Colab\"/></a>"
      ]
    },
    {
      "cell_type": "markdown",
      "source": [
        "# Logic Programming\n",
        "\n",
        "We explore ways to use symbolic reasoning using Knowldege Base\n",
        "(facts, rules, targets) for logic reasoning.\n",
        "\n",
        "In addition to basic introduction, we discuss possible use of KB in\n",
        "\n",
        "- machine learning\n",
        "- industrial use cases\n",
        "- business rules\n",
        "\n",
        "Refs.\n",
        "\n",
        "- https://github.com/MNoorFawi/pytholog\n",
        "- https://github.com/mnoorfawi/traversing-graphs-using-pytholog\n"
      ],
      "metadata": {
        "id": "uSfYDLh6PFNw"
      }
    },
    {
      "cell_type": "code",
      "execution_count": null,
      "metadata": {
        "id": "tSbUhXSmaQsV"
      },
      "outputs": [],
      "source": [
        "!pip install pytholog"
      ]
    },
    {
      "cell_type": "code",
      "source": [
        "import pytholog as pl"
      ],
      "metadata": {
        "id": "yBHhkE9TOf0j"
      },
      "execution_count": null,
      "outputs": []
    },
    {
      "cell_type": "code",
      "source": [
        "new_kb = pl.KnowledgeBase(\"flavor\")\n",
        "\n",
        "new_kb([\"likes(noor, sausage)\",\n",
        "        \"likes(melissa, pasta)\",\n",
        "        \"likes(dmitry, cookie)\",\n",
        "        \"likes(nikita, sausage)\",\n",
        "        \"likes(assel, limonade)\",\n",
        "        \"food_type(gouda, cheese)\",\n",
        "        \"food_type(ritz, cracker)\",\n",
        "        \"food_type(steak, meat)\",\n",
        "        \"food_type(sausage, meat)\",\n",
        "        \"food_type(limonade, juice)\",\n",
        "        \"food_type(cookie, dessert)\",\n",
        "        \"flavor(sweet, dessert)\",\n",
        "        \"flavor(savory, meat)\",\n",
        "        \"flavor(savory, cheese)\",\n",
        "        \"flavor(sweet, juice)\",\n",
        "        \"food_flavor(X, Y) :- food_type(X, Z), flavor(Y, Z)\",\n",
        "        \"dish_to_like(X, Y) :- likes(X, L), food_type(L, T), flavor(F, T), food_flavor(Y, F), neq(L, Y)\"])\n"
      ],
      "metadata": {
        "id": "4PDqbgWZOWzy"
      },
      "execution_count": null,
      "outputs": []
    },
    {
      "cell_type": "code",
      "source": [
        "new_kb.query(pl.Expr(\"likes(noor, sausage)\")) # ['Yes']\n",
        "new_kb.query(pl.Expr(\"likes(noor, pasta)\")) # ['No']"
      ],
      "metadata": {
        "id": "gquYYRh5QA69"
      },
      "execution_count": null,
      "outputs": []
    },
    {
      "cell_type": "code",
      "source": [
        "# query 1\n",
        "from time import time\n",
        "start = time()\n",
        "print(new_kb.query(pl.Expr(\"food_flavor(What, sweet)\")))\n",
        "print(time() - start)\n",
        "\n",
        "# [{'What': 'limonade'}, {'What': 'cookie'}]\n",
        "# 0.0020236968994140625"
      ],
      "metadata": {
        "id": "x14fXSE3QP8I"
      },
      "execution_count": null,
      "outputs": []
    },
    {
      "cell_type": "code",
      "source": [
        "# query 2\n",
        "start = time()\n",
        "print(new_kb.query(pl.Expr(\"food_flavor(Food, sweet)\")))\n",
        "print(time() - start)\n",
        "\n",
        "# [{'Food': 'limonade'}, {'Food': 'cookie'}]\n",
        "# 0.0"
      ],
      "metadata": {
        "id": "WyWIdVHJQWMJ"
      },
      "execution_count": null,
      "outputs": []
    },
    {
      "cell_type": "code",
      "source": [
        "start = time()\n",
        "print(new_kb.query(pl.Expr(\"dish_to_like(noor, What)\")))\n",
        "print(time() - start)\n",
        "\n",
        "# [{'What': 'gouda'}, {'What': 'steak'}]\n",
        "# 0.001992940902709961\n"
      ],
      "metadata": {
        "id": "5sLYX8cgQdkN"
      },
      "execution_count": null,
      "outputs": []
    },
    {
      "cell_type": "code",
      "source": [
        "start = time()\n",
        "print(new_kb.query(pl.Expr(\"dish_to_like(noor, What)\")))\n",
        "print(time() - start)\n",
        "\n",
        "# [{'What': 'gouda'}, {'What': 'steak'}]\n",
        "# 0.0"
      ],
      "metadata": {
        "id": "RnTpFJGPQi9G"
      },
      "execution_count": null,
      "outputs": []
    },
    {
      "cell_type": "code",
      "source": [
        "## new knowledge base object\n",
        "city_color = pl.KnowledgeBase(\"city_color\")\n",
        "city_color([\n",
        "    \"different(red, green)\",\n",
        "    \"different(red, blue)\",\n",
        "    \"different(green, red)\",\n",
        "    \"different(green, blue)\",\n",
        "    \"different(blue, red)\",\n",
        "    \"different(blue, green)\",\n",
        "    \"coloring(A, M, G, T, F) :- different(M, T),different(M, A),different(A, T),different(A, M),different(A, G),different(A, F),different(G, F),different(G, T)\"\n",
        "])"
      ],
      "metadata": {
        "id": "dy---2cYQo2m"
      },
      "execution_count": null,
      "outputs": []
    },
    {
      "cell_type": "code",
      "source": [
        "## we will use [0] to return only one answer\n",
        "## as prolog will give all possible combinations and answers\n",
        "city_color.query(pl.Expr(\"coloring(Alabama, Mississippi, Georgia, Tennessee, Florida)\"), cut = True)\n",
        "\n",
        "# {'Alabama': 'blue',\n",
        "#  'Mississippi': 'red',\n",
        "#  'Georgia': 'red',\n",
        "#  'Tennessee': 'green',\n",
        "#  'Florida': 'green'}"
      ],
      "metadata": {
        "id": "QAu-N09uQvaB"
      },
      "execution_count": null,
      "outputs": []
    },
    {
      "cell_type": "code",
      "source": [
        "battery_kb = pl.KnowledgeBase(\"battery\")\n",
        "battery_kb([\n",
        "\t\"battery(dead,P) :- voltmeter(battery_terminals,abnormal,P2), P is P2 + 0.5\",\n",
        "\t\"battery(dead,P) :- electrical_problem(P), P >= 0.8\",\n",
        "\t\"battery(dead,P) :- electrical_problem(P2), age(battery,old,P3), P is P2 * P3 * 0.9\",\n",
        "\t\"electrical_problem(0.7)\",\n",
        "\t\"age(battery,old, 0.8)\",\n",
        "\t\"voltmeter(battery_terminals,abnormal,0.3)\"])\n",
        "\n",
        "battery_kb.query(pl.Expr(\"battery(dead, Probability)\"))\n",
        "\n",
        "# [{'Probability': 0.8}, {'Probability': 'No'}, {'Probability': 0.504}]\n",
        "# the second one is \"No\" because the condition has not been met."
      ],
      "metadata": {
        "id": "wddgyrWkQ02e"
      },
      "execution_count": null,
      "outputs": []
    },
    {
      "cell_type": "code",
      "source": [
        "iris_kb = pl.KnowledgeBase(\"iris\")\n",
        "iris_kb([## Rules\n",
        "\t\"species(setosa, Truth) :- petal_width(W), Truth is W <= 0.80\",\n",
        "\t\"species(versicolor, Truth) :- petal_width(W), petal_length(L), Truth is W > 0.80 and L <= 4.95\",\n",
        "\t\"species(virginica, Truth) :- petal_width(W), petal_length(L), Truth is W > 0.80 and L > 4.95\",\n",
        "\t## New record\n",
        "\t\"petal_length(5.1)\",\n",
        "\t\"petal_width(2.4)\"])"
      ],
      "metadata": {
        "id": "61UkrBbAQ6wA"
      },
      "execution_count": null,
      "outputs": []
    },
    {
      "cell_type": "code",
      "source": [
        "iris_kb.query(pl.Expr(\"species(Class, Truth)\"))\n",
        "\n",
        "# [{'Class': 'setosa', 'Truth': 'No'},\n",
        "#  {'Class': 'versicolor', 'Truth': 'No'},\n",
        "#  {'Class': 'virginica', 'Truth': 'Yes'}]"
      ],
      "metadata": {
        "id": "aLx0vU-5Q_Ce"
      },
      "execution_count": null,
      "outputs": []
    },
    {
      "cell_type": "code",
      "source": [
        "iris_kb.query(pl.Expr(\"species(Class, Truth)\"))\n",
        "\n",
        "# [{'Class': 'setosa', 'Truth': 'No'},\n",
        "#  {'Class': 'versicolor', 'Truth': 'No'},\n",
        "#  {'Class': 'virginica', 'Truth': 'Yes'}]"
      ],
      "metadata": {
        "id": "zomKgUFmREtE"
      },
      "execution_count": null,
      "outputs": []
    },
    {
      "cell_type": "code",
      "source": [
        "iris_kb.rule_search(pl.Expr(\"species(Species, Truth)\"))\n",
        "\n",
        "# [species(setosa,Truth):-petal_width(W),TruthisW<=0.80,\n",
        "#  species(versicolor,Truth):-petal_width(W),petal_length(L),TruthisW>0.80andL<=4.95,\n",
        "#  species(virginica,Truth):-petal_width(W),petal_length(L),TruthisW>0.80andL>4.95]"
      ],
      "metadata": {
        "id": "wmbQIMhPRJWJ"
      },
      "execution_count": null,
      "outputs": []
    },
    {
      "cell_type": "code",
      "source": [
        "new_kb.clear_cache()"
      ],
      "metadata": {
        "id": "VCjYZ80dRQ3q"
      },
      "execution_count": null,
      "outputs": []
    },
    {
      "cell_type": "code",
      "source": [
        "import pandas as pd\n",
        "df = pd.DataFrame({\"has_work\": [\"david\", \"daniel\"], \"tasks\": [8, 3]})\n",
        "df\n",
        "#\thas_work  tasks\n",
        "#0\t   david\t  8\n",
        "#1\t  daniel\t  3\n",
        "ex = pl.KnowledgeBase()\n",
        "for i in range(df.shape[0]):\n",
        "    ex([f\"has_work({df.has_work[i]}, {df.tasks[i]})\"])\n",
        "\n",
        "ex.db\n",
        "# {'has_work': {'facts': [has_work(david,8), has_work(daniel,3)],\n",
        "#   'goals': [[], []],\n",
        "#   'terms': [['david', '8'], ['daniel', '3']]}}"
      ],
      "metadata": {
        "id": "rwsvCoJ0RbVB"
      },
      "execution_count": null,
      "outputs": []
    },
    {
      "cell_type": "code",
      "source": [
        "graph = pl.KnowledgeBase(\"graph\")\n",
        "graph([\n",
        "\t\"edge(a, b, 6)\", \"edge(a, c, 1)\", \"edge(b, e, 4)\",\n",
        "\t\"edge(b, f, 3)\", \"edge(c, d, 3)\", \"edge(d, e, 8)\",\n",
        "\t\"edge(e, f, 2)\",\n",
        "\t\"path(X, Y, W) :- edge(X , Y, W)\",\n",
        "\t\"path(X, Y, W) :- edge(X, Z, W1), path(Z, Y, W2), W is W1 + W2\"])\n",
        "\n",
        "answer, path = graph.query(pl.Expr(\"path(a, f, W)\"), show_path = True)\n",
        "print(answer)\n",
        "print([x for x in path if str(x) > \"Z\"])\n",
        "\n",
        "# [{'W': 9}, {'W': 12}, {'W': 14}]\n",
        "# ['d', 'b', 'e', 'c']"
      ],
      "metadata": {
        "id": "UBs2QtTpRjo2"
      },
      "execution_count": null,
      "outputs": []
    },
    {
      "cell_type": "code",
      "source": [
        "answer, path = graph.query(pl.Expr(\"path(a, e, W)\"), show_path = True, cut = True)\n",
        "print(answer)\n",
        "print([x for x in path if str(x) > \"Z\"])\n",
        "\n",
        "# [{'W': 10}]\n",
        "# ['b']"
      ],
      "metadata": {
        "id": "9Ba0kUPPRpYz"
      },
      "execution_count": null,
      "outputs": []
    },
    {
      "cell_type": "code",
      "source": [
        "friends_kb = pl.KnowledgeBase(\"friends\")\n",
        "friends_kb([\n",
        "    \"stress(X, P) :- has_lot_work(X, P2), P is P2 * 0.2\",\n",
        "    \"to_smoke(X, Prob) :- stress(X, P1), friends(Y, X), influences(Y, X, P2), smokes(Y), Prob is P1 * P2\",\n",
        "    \"to_have_asthma(X, 0.4) :- smokes(X)\",\n",
        "    \"to_have_asthma(X, Prob) :- to_smoke(X, P2), Prob is P2 * 0.25\",\n",
        "    \"friends(X, Y) :- friend(X, Y)\",\n",
        "    \"friends(X, Y) :- friend(Y, X)\",\n",
        "    \"influences(X, Y, 0.6) :- friends(X, Y)\",\n",
        "    \"friend(peter, david)\",\n",
        "    \"friend(peter, rebecca)\",\n",
        "    \"friend(daniel, rebecca)\",\n",
        "    \"smokes(peter)\",\n",
        "    \"smokes(rebecca)\",\n",
        "    \"has_lot_work(daniel, 0.8)\",\n",
        "    \"has_lot_work(david, 0.3)\"\n",
        "])"
      ],
      "metadata": {
        "id": "aHCRGREwjPzt"
      },
      "execution_count": null,
      "outputs": []
    },
    {
      "cell_type": "code",
      "source": [
        "friends_kb.query(pl.Expr(\"influences(X, rebecca, P)\"))\n",
        "# [{'X': 'peter', 'P': '0.6'}, {'X': 'daniel', 'P': '0.6'}]\n",
        "\n",
        "friends_kb.query(pl.Expr(\"smokes(Who)\"))\n",
        "# [{'Who': 'peter'}, {'Who': 'rebecca'}]\n",
        "\n",
        "friends_kb.query(pl.Expr(\"to_smoke(Who, P)\"))\n",
        "# [{'Who': 'daniel', 'P': 0.09600000000000002}, {'Who': 'david', 'P': 0.036}]\n",
        "\n",
        "friends_kb.query(pl.Expr(\"to_have_asthma(Who, P)\"))\n",
        "# [{'Who': 'peter', 'P': '0.4'},\n",
        "#  {'Who': 'rebecca', 'P': '0.4'},\n",
        "#  {'Who': 'daniel', 'P': 0.024000000000000004},\n",
        "#  {'Who': 'david', 'P': 0.009}]"
      ],
      "metadata": {
        "id": "fx0iVpvAjcrO"
      },
      "execution_count": null,
      "outputs": []
    },
    {
      "cell_type": "code",
      "source": [
        "# negation discussion https://stackoverflow.com/questions/70705978/using-not-in-pytholog\n",
        "# pl has limited syntax, for example not() is missing\n",
        "# as a solution facts can be introduced sud that True/False is generalized to propabiliry\n",
        "med_kb = pl.KnowledgeBase()\n",
        "med_kb([\n",
        "  \"relieves(aspirin, headache)\",\n",
        "  \"relieves(new_med, headache)\",\n",
        "\n",
        "  \"aggravate(aspirin, peptic_ulcer, 0.8)\", # bad\n",
        "  \"aggravate(new_med, peptic_ulcer, 0.3)\", # better\n",
        "\n",
        "  \"aggravate(aspirin, asthma, 0.8)\",\n",
        "\n",
        "  \"suffers_from(albert, headache)\",\n",
        "  \"precondition(albert, peptic_ulcer)\",\n",
        "\n",
        "  # a way to implement neqation using probability\n",
        "  \"should_take(Person, Drug) :- suffers_from(Person, Symptom), precondition(Person, Pre), relieves(Drug, Symptom), aggravate(Drug, _, Prob), Prob <= 0.5\",\n",
        "  \"should_not_take(Person, Drug) :- suffers_from(Person, Symptom), precondition(Person, Pre), relieves(Drug, Symptom), aggravate(Drug, _, Prob), Prob > 0.5\"\n",
        "])"
      ],
      "metadata": {
        "id": "CCK93RczYGu8"
      },
      "execution_count": null,
      "outputs": []
    },
    {
      "cell_type": "code",
      "source": [
        "print(med_kb.query(pl.Expr(\"relieves(Med, _)\")))"
      ],
      "metadata": {
        "id": "BEXsi9JTguuK"
      },
      "execution_count": null,
      "outputs": []
    },
    {
      "cell_type": "code",
      "source": [
        "print(med_kb.query(pl.Expr(\"relieves(_, X)\")))"
      ],
      "metadata": {
        "id": "Qxo5lEdeleez"
      },
      "execution_count": null,
      "outputs": []
    },
    {
      "cell_type": "code",
      "source": [
        "print(med_kb.query(pl.Expr(\"aggravate(Med, Cond, P)\")))"
      ],
      "metadata": {
        "id": "8ssUVw3qhD-L"
      },
      "execution_count": null,
      "outputs": []
    },
    {
      "cell_type": "code",
      "source": [
        "# new medicine is suggested\n",
        "print(med_kb.query(pl.Expr(\"should_take(albert, Drug)\")))"
      ],
      "metadata": {
        "id": "YVz1F5MIYsYZ"
      },
      "execution_count": null,
      "outputs": []
    },
    {
      "cell_type": "code",
      "source": [
        "# aspirin should be avoided\n",
        "print(med_kb.query(pl.Expr(\"should_not_take(albert, Drug)\")))"
      ],
      "metadata": {
        "id": "ych8XivWxPDy"
      },
      "execution_count": null,
      "outputs": []
    },
    {
      "cell_type": "markdown",
      "source": [
        "## Finding paths in a graph"
      ],
      "metadata": {
        "id": "wMTbFfUnky7o"
      }
    },
    {
      "cell_type": "code",
      "source": [
        "# https://github.com/mnoorfawi/traversing-graphs-using-pytholog\n",
        "#\n",
        "import pytholog as pl\n",
        "\n",
        "graph_kb = pl.KnowledgeBase(\"MSA_graph\")\n",
        "graph_kb([## routes between adjacent cities\n",
        "    \"route(seattle, chicago, 1737)\",\n",
        "    \"route(seattle, san_francisco, 678)\",\n",
        "    \"route(san_francisco, riverside, 386)\",\n",
        "    \"route(san_francisco, los_angeles, 348)\",\n",
        "    \"route(los_angeles, riverside, 50)\",\n",
        "    \"route(los_angeles, phoenix, 357)\",\n",
        "    \"route(riverside, phoenix, 307)\",\n",
        "    \"route(riverside, chicago, 1704)\",\n",
        "    \"route(phoenix, dallas, 887)\",\n",
        "    \"route(phoenix, houston, 1015)\",\n",
        "    \"route(dallas, chicago, 805)\",\n",
        "    \"route(dallas, atlanta, 721)\",\n",
        "    \"route(dallas, houston, 225)\",\n",
        "    \"route(houston, atlanta, 702)\",\n",
        "    \"route(houston, miami, 968)\",\n",
        "    \"route(atlanta, chicago, 588)\",\n",
        "    \"route(atlanta, washington, 543)\",\n",
        "    \"route(atlanta, miami, 604)\",\n",
        "    \"route(miami, washington, 923)\",\n",
        "    \"route(chicago, detroit, 238)\",\n",
        "    \"route(detroit, boston, 613)\",\n",
        "    \"route(detroit, washington, 396)\",\n",
        "    \"route(detroit, new_york, 482)\",\n",
        "    \"route(boston, new_york, 190)\",\n",
        "    \"route(new_york, philadelphia, 81)\",\n",
        "    \"route(philadelphia, washington, 123)\",\n",
        "\t## define the rules how can we move from one point to another\n",
        "    \"path(X, Y, P) :- route(X, Y, P)\",\n",
        "    \"path(X, Y, P) :- route(X, Z, P2), path(Z, Y, P3), P is P2 + P3\",\n",
        "\t## to make it undirected (two-way) graph\n",
        "    #\"path(X, Y, P) :- route(Y, X, P)\",\n",
        "    \"path(X, Y, P) :- route(Y, Z, P2), path(Z, X, P3), P is P2 + P3\"\n",
        "])"
      ],
      "metadata": {
        "id": "Kl_coukCjtKD"
      },
      "execution_count": null,
      "outputs": []
    },
    {
      "cell_type": "code",
      "source": [
        "x, y = graph_kb.query(pl.Expr(\"path(boston, miami, Weight)\"), cut = True, show_path = True) ## cut argument to stop searching when a path is found\n",
        "print(x)\n",
        "print([x for x in y if str(x) > \"Z\"]) ## remove weights in the visited nodes\n",
        "\n",
        "# [{'Weight': 1317}]\n",
        "# ['washington', 'new_york', 'philadelphia']"
      ],
      "metadata": {
        "id": "G4gxjjwlkGrF"
      },
      "execution_count": null,
      "outputs": []
    },
    {
      "cell_type": "code",
      "source": [
        "## the other way\n",
        "x, y = graph_kb.query(pl.Expr(\"path(miami, boston, Weight)\"), cut = True, show_path = True)\n",
        "print(x)\n",
        "[x for x in y if str(x) > \"Z\"]\n",
        "\n",
        "# [{'Weight': 1317}]\n",
        "# ['new_york', 'washington', 'philadelphia']\n"
      ],
      "metadata": {
        "id": "RvfQpvJXkNks"
      },
      "execution_count": null,
      "outputs": []
    },
    {
      "cell_type": "code",
      "source": [
        "x, y = graph_kb.query(pl.Expr(\"path(seattle, washington, Weight)\"), cut = True, show_path = True)\n",
        "print(x)\n",
        "[x for x in y if str(x) > \"Z\"]\n",
        "\n",
        "# [{'Weight': 2371}]\n",
        "# ['chicago', 'detroit']"
      ],
      "metadata": {
        "id": "YOBaBRz5kTNh"
      },
      "execution_count": null,
      "outputs": []
    },
    {
      "cell_type": "code",
      "source": [
        "x, y = graph_kb.query(pl.Expr(\"path(san_francisco, atlanta, Weight)\"), cut = True, show_path = True)\n",
        "print(x)\n",
        "[x for x in y if str(x) > \"Z\"]\n",
        "\n",
        "# [{'Weight': 2678}]\n",
        "# ['houston', 'dallas', 'riverside', 'chicago']"
      ],
      "metadata": {
        "id": "WaW2nvq8kW8t"
      },
      "execution_count": null,
      "outputs": []
    },
    {
      "cell_type": "code",
      "source": [
        "x, y = graph_kb.query(pl.Expr(\"path(chicago, detroit, Weight)\"), cut = True, show_path = True)\n",
        "print(x)\n",
        "[x for x in y if str(x) > \"Z\"]\n",
        "\n",
        "# [{'Weight': '238'}]\n",
        "# []"
      ],
      "metadata": {
        "id": "Dt4BT6bGkbUc"
      },
      "execution_count": null,
      "outputs": []
    },
    {
      "cell_type": "code",
      "source": [
        "x, y = graph_kb.query(pl.Expr(\"path(los_angeles, dallas, Weight)\"), cut = True, show_path = True)\n",
        "print(x)\n",
        "[x for x in y if str(x) > \"Z\"]\n",
        "\n",
        "# [{'Weight': 1244}]\n",
        "# ['phoenix']"
      ],
      "metadata": {
        "id": "Xj57DZotkfA6"
      },
      "execution_count": null,
      "outputs": []
    },
    {
      "cell_type": "code",
      "source": [
        "x, y = graph_kb.query(pl.Expr(\"path(riverside, washington, Weight)\"), cut = True, show_path = True)\n",
        "print(x)\n",
        "[x for x in y if str(x) > \"Z\"]\n",
        "\n",
        "# [{'Weight': 2338}]\n",
        "# ['miami', 'chicago', 'atlanta', 'detroit']"
      ],
      "metadata": {
        "id": "M2ooyMU3kiV7"
      },
      "execution_count": null,
      "outputs": []
    }
  ]
}